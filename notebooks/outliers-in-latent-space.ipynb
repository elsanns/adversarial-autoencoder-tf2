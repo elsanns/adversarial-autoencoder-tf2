{
 "cells": [
  {
   "cell_type": "markdown",
   "metadata": {},
   "source": [
    "# Looking for outliers in the latent space\n",
    "\n",
    "In GAN architecture encoder learns to map input to the latent space. This notebook shows an example of how to detect outliers from the target gaussian mixture distribution.\n",
    "\n",
    "---"
   ]
  },
  {
   "cell_type": "markdown",
   "metadata": {},
   "source": [
    "## Load model and predict"
   ]
  },
  {
   "cell_type": "code",
   "execution_count": 11,
   "metadata": {},
   "outputs": [],
   "source": [
    "import tensorflow as tf\n",
    "import matplotlib.pyplot as plt\n",
    "import numpy as np\n",
    "from math import sin, cos\n",
    "from scipy.stats import norm"
   ]
  },
  {
   "cell_type": "markdown",
   "metadata": {},
   "source": [
    "Model parameters and utility objects"
   ]
  },
  {
   "cell_type": "code",
   "execution_count": 12,
   "metadata": {},
   "outputs": [],
   "source": [
    "from utils.prior_utils import PriorFactory\n",
    "from utils.plot_utils import PlotFactory\n",
    "from utils.data_loader import DataLoader\n",
    "\n",
    "n_classes = 10\n",
    "result_dir = 'results'\n",
    "prior_type = 'gaussian_mixture'\n",
    "prior_factory = PriorFactory(n_classes)\n",
    "\n",
    "gm_x_stddev = prior_factory.gaussian_mixture_x_stddev\n",
    "gm_y_stddev = prior_factory.gaussian_mixture_y_stddev\n",
    "\n",
    "batch_size = 128\n",
    "data_loader = DataLoader(batch_size)\n",
    "\n",
    "plot_factory = PlotFactory(prior_factory, result_dir, prior_type, n_classes, \n",
    "                           data_loader.img_size_x, data_loader.img_size_y)"
   ]
  },
  {
   "cell_type": "markdown",
   "metadata": {},
   "source": [
    "Load saved weights"
   ]
  },
  {
   "cell_type": "code",
   "execution_count": 13,
   "metadata": {},
   "outputs": [],
   "source": [
    "encoder = tf.saved_model.load(\"data/encoder_model\") # Modify path or use this example\n",
    "decoder = tf.saved_model.load(\"data/decoder_model\") # Modify path or use this example\n",
    "discriminator = tf.saved_model.load(\"data/discriminator_model\") # Modify path or use this example\n",
    "\n",
    "from model.aae import Gan, Encoder, Discriminator\n",
    "gan = Gan(image_dim=data_loader.img_size_x * data_loader.img_size_y)\n",
    "\n",
    "# use restored models\n",
    "gan.encoder = encoder\n",
    "gan.decoder = decoder\n",
    "gan.discriminator = discriminator"
   ]
  },
  {
   "cell_type": "markdown",
   "metadata": {},
   "source": [
    "Prepare test data"
   ]
  },
  {
   "cell_type": "code",
   "execution_count": 14,
   "metadata": {},
   "outputs": [],
   "source": [
    "n_tot_imgs = n_classes * n_classes\n",
    "n_tot_imgs_sampled = plot_factory.x_sampling_reconstr * plot_factory.y_sampling_reconstr\n",
    "dist_sample_count = 10000\n",
    "\n",
    "# Distribution demo\n",
    "plot_factory.plot_distribution_demo(prior_type, dist_sample_count)\n",
    "\n",
    "# Test data for distribution plot\n",
    "_, _ = data_loader.make_dataset()\n",
    "x_test, labels_test = data_loader.get_test_sample(dist_sample_count, dist_sample_count)"
   ]
  },
  {
   "cell_type": "markdown",
   "metadata": {},
   "source": [
    "Predict"
   ]
  },
  {
   "cell_type": "code",
   "execution_count": 15,
   "metadata": {},
   "outputs": [],
   "source": [
    "z = gan.encoder(x_test, training=False)\n",
    "z = z.numpy()"
   ]
  },
  {
   "cell_type": "markdown",
   "metadata": {},
   "source": [
    "## Find outliers"
   ]
  },
  {
   "cell_type": "markdown",
   "metadata": {},
   "source": [
    "Pick a label to find outliers for"
   ]
  },
  {
   "cell_type": "code",
   "execution_count": 16,
   "metadata": {},
   "outputs": [],
   "source": [
    "label_explain = 3 # Modify label index "
   ]
  },
  {
   "cell_type": "markdown",
   "metadata": {},
   "source": [
    "Rotate and shif to the oryginal position of the target distribution"
   ]
  },
  {
   "cell_type": "code",
   "execution_count": 17,
   "metadata": {},
   "outputs": [
    {
     "data": {
      "image/png": "[encoded data removed]",
      "text/plain": [
       "<Figure size 432x288 with 1 Axes>"
      ]
     },
     "metadata": {
      "needs_background": "light"
     },
     "output_type": "display_data"
    }
   ],
   "source": [
    "# Indices for label explain\n",
    "label_explain_indx = [i for i, x in enumerate(labels_test) if np.argmax(x)==label_explain]\n",
    "z_explain = z[label_explain_indx]\n",
    "\n",
    "# Perform PCA to find real (learnt) angle (expected label*2pi/n_classes)\n",
    "x = [elem[0] for elem in z[label_explain_indx]]\n",
    "y = [elem[1] for elem in z[label_explain_indx]]\n",
    "x_0 = x - np.mean(z_explain[:, 0])\n",
    "y_0 = y - np.mean(z_explain[:, 1])\n",
    "coords = np.array([x_0, y_0])\n",
    "eigen_vals, eigen_vecs = np.linalg.eig(np.cov(coords))\n",
    "# Eigenvector with largest eigen value\n",
    "sort_indices = np.argsort(eigen_vals)[::-1]\n",
    "eigen_vec_1_x, eigen_vec_1_y = eigen_vecs[:, sort_indices[0]] \n",
    "\n",
    "\n",
    "# Plot\n",
    "COL_GREY = (232/255., 232/255., 232/255., 0.5)\n",
    "cmap=plt.cm.get_cmap('jet', n_classes)\n",
    "    \n",
    "def plot_label():\n",
    "    plt.scatter(z[:, 0], z[:, 1], color=COL_GREY)\n",
    "    plt.scatter(z_explain[:, 0], z_explain[:, 1], color=cmap(label_explain), \n",
    "                label='Label '+str(label_explain))\n",
    "    \n",
    "    axes = plt.gca()\n",
    "    axes_max = int(3.5*3*gm_x_stddev)\n",
    "    axes.set(xlim=(-axes_max, axes_max), ylim=(-axes_max, axes_max))\n",
    "    axes.set_aspect('equal')\n",
    "    \n",
    "def plot_main_direction():\n",
    "    plot_label()\n",
    "    \n",
    "    # Main direction (direction of the first eigen vector)\n",
    "    plt.plot([eigen_vec_1_x*-4, eigen_vec_1_x*4],\n",
    "                [eigen_vec_1_y*-4, eigen_vec_1_y*4], color='grey')\n",
    "\n",
    "plot_main_direction()    \n",
    "plt.show()\n",
    "plt.close()"
   ]
  },
  {
   "cell_type": "code",
   "execution_count": 18,
   "metadata": {},
   "outputs": [
    {
     "data": {
      "image/png": "[encoded data removed]",
      "text/plain": [
       "<Figure size 432x288 with 1 Axes>"
      ]
     },
     "metadata": {
      "needs_background": "light"
     },
     "output_type": "display_data"
    }
   ],
   "source": [
    "def rotate_angle(points, angle):\n",
    "    '''Rotates points with give coordinates by angle'''\n",
    "    rotation_matrix = np.array([[cos(angle), -sin(angle)], [sin(angle), cos(angle)]])\n",
    "    return np.array([rotation_matrix.dot(point) for point in points])\n",
    "\n",
    "# Rotation angle (using axis corresponding to the 1st eigen value: length)\n",
    "distribution_base_vec = [1, 0]\n",
    "rotation_vec = [abs(eigen_vec_1_x), abs(eigen_vec_1_y)]\n",
    "cos_angle = np.dot(distribution_base_vec, rotation_vec) / \\\n",
    "(np.linalg.norm(distribution_base_vec) * np.linalg.norm(rotation_vec))\n",
    "angle = np.arccos(cos_angle)\n",
    "angle = -np.sign(np.mean(y))*angle if np.sign(np.mean(x))>=0 \\\n",
    "        else -np.sign(np.mean(y))*(np.pi-angle)\n",
    "\n",
    "z_explain_rotated = rotate_angle(z_explain, angle)\n",
    "\n",
    "\n",
    "# Plot\n",
    "import matplotlib.markers as mmark\n",
    "    \n",
    "def plot_rotated():   \n",
    "    plt.scatter(z_explain_rotated[:, 0], z_explain_rotated[:, 1], color='pink', label = 'Rotated')\n",
    "       \n",
    "plot_main_direction()\n",
    "plot_rotated()\n",
    "plt.legend(loc=3)\n",
    "plt.show()\n",
    "plt.close()"
   ]
  },
  {
   "cell_type": "code",
   "execution_count": 19,
   "metadata": {},
   "outputs": [
    {
     "data": {
      "image/png": "[encoded data removed]",
      "text/plain": [
       "<Figure size 432x288 with 1 Axes>"
      ]
     },
     "metadata": {
      "needs_background": "light"
     },
     "output_type": "display_data"
    }
   ],
   "source": [
    "# Find value of a shift necessary to bring rotated learnt distribution go 0 mean \n",
    "x_dist = norm.fit(z_explain_rotated[:, 0])\n",
    "y_dist = norm.fit(z_explain_rotated[:, 1])\n",
    "density_xy = np.array([[norm.pdf(x[0], x_dist[0], x_dist[1]), \n",
    "                        norm.pdf(x[1], y_dist[0], y_dist[1])] \n",
    "                       for x in z_explain_rotated])\n",
    "\n",
    "# Central point - high density along x and y\n",
    "density_x = [norm.pdf(x, x_dist[0], x_dist[1]) for x in z_explain_rotated[:, 0]]\n",
    "density_y = [norm.pdf(x, y_dist[0], y_dist[1]) for x in z_explain_rotated[:, 1]]\n",
    "max_density_point = sorted([x for x in enumerate(zip(density_x, density_y))], \n",
    "       key=lambda x: x[1][0]*x[1][1])[-1]\n",
    "\n",
    "# Shift to 0 mean along both axes\n",
    "z_explain_rotated_shifted = np.column_stack(\n",
    "    ([z_explain_rotated[:,0] - z_explain_rotated[max_density_point[0], :][0], \n",
    "      z_explain_rotated[:,1] - z_explain_rotated[max_density_point[0], :][1]]))\n",
    "\n",
    "\n",
    "# Plot\n",
    "plot_main_direction()\n",
    "plot_rotated()\n",
    "    \n",
    "def plot_rotated_shifted():\n",
    "    plt.scatter(z_explain_rotated_shifted[:, 0], z_explain_rotated_shifted[:, 1], \n",
    "                color='grey', label='Rotated mean 0')\n",
    "    \n",
    "plot_rotated_shifted()\n",
    "plt.legend(loc=3)\n",
    "plt.show()\n",
    "plt.close()"
   ]
  },
  {
   "cell_type": "markdown",
   "metadata": {},
   "source": [
    "Outliers"
   ]
  },
  {
   "cell_type": "code",
   "execution_count": 20,
   "metadata": {},
   "outputs": [
    {
     "data": {
      "image/png": "[encoded data removed]",
      "text/plain": [
       "<Figure size 432x288 with 1 Axes>"
      ]
     },
     "metadata": {
      "needs_background": "light"
     },
     "output_type": "display_data"
    }
   ],
   "source": [
    "# Assumed distribution\n",
    "x_dist_assumed = (0, prior_factory.gaussian_mixture_x_stddev)\n",
    "y_dist_assumed = (0, prior_factory.gaussian_mixture_y_stddev)\n",
    "\n",
    "# Test with other values of epsilon\n",
    "epsilon = 0.01 #0.5 \n",
    "\n",
    "# Find points with low values of probability density function for the target distributions along x and y\n",
    "density_assumed = np.array([[norm.pdf(x[0], 0, x_dist_assumed[1]), norm.pdf(x[1], 0, y_dist_assumed[1])] \n",
    "                        for x in z_explain_rotated_shifted])\n",
    "outliers_row_id = [row_id for row_id, row in enumerate(density_assumed) \n",
    "                   if (row[0]<epsilon or row[1]<epsilon)]\n",
    "\n",
    "\n",
    "# Plot\n",
    "plot_label()\n",
    "plt.scatter(z_explain[outliers_row_id, 0], z_explain[outliers_row_id, 1], \n",
    "            color=cmap(label_explain), edgecolors='black')\n",
    "\n",
    "plt.show()\n",
    "plt.close()"
   ]
  }
 ],
 "metadata": {
  "kernelspec": {
   "display_name": "kernel_tf2",
   "language": "python",
   "name": "kernel_tf2"
  },
  "language_info": {
   "codemirror_mode": {
    "name": "ipython",
    "version": 3
   },
   "file_extension": ".py",
   "mimetype": "text/x-python",
   "name": "python",
   "nbconvert_exporter": "python",
   "pygments_lexer": "ipython3",
   "version": "3.6.4"
  }
 },
 "nbformat": 4,
 "nbformat_minor": 2
}
